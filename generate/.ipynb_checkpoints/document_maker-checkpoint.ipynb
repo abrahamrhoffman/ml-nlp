{
 "cells": [
  {
   "cell_type": "code",
   "execution_count": 1,
   "metadata": {
    "collapsed": true
   },
   "outputs": [],
   "source": [
    "##################\n",
    "# Document Maker #\n",
    "################################################\n",
    "# Desc   : A Nice RNN for Generating Documents #\n",
    "# Author : Abe Hoffman                         #\n",
    "# Date   : Aug 21 2017                         #\n",
    "################################################"
   ]
  },
  {
   "cell_type": "code",
   "execution_count": 2,
   "metadata": {
    "collapsed": true
   },
   "outputs": [],
   "source": [
    "from __future__ import print_function\n",
    "from collections import namedtuple\n",
    "import tensorflow as tf\n",
    "import numpy as np"
   ]
  },
  {
   "cell_type": "code",
   "execution_count": 3,
   "metadata": {
    "collapsed": true
   },
   "outputs": [],
   "source": [
    "################\n",
    "# Architecture #\n",
    "################\n",
    "# A. Load Document (from the Corpus)\n",
    "# B. Pre-process Document\n",
    "# C. Encode the Document\n",
    "# D. Define Batch Generator\n",
    "# E. Define Model Inputs\n",
    "# F. Define LSTM Cell\n",
    "# G. Define Output/"
   ]
  },
  {
   "cell_type": "code",
   "execution_count": 4,
   "metadata": {
    "collapsed": true
   },
   "outputs": [],
   "source": [
    "# A. Load the Document"
   ]
  },
  {
   "cell_type": "code",
   "execution_count": 5,
   "metadata": {
    "collapsed": true
   },
   "outputs": [],
   "source": [
    "# A1. Open the Document and Read it\n",
    "with open('anna.txt', 'r') as f: \n",
    "    text = f.read()"
   ]
  },
  {
   "cell_type": "code",
   "execution_count": 6,
   "metadata": {
    "collapsed": true
   },
   "outputs": [],
   "source": [
    "# B. Pre-process Document"
   ]
  },
  {
   "cell_type": "code",
   "execution_count": 7,
   "metadata": {
    "collapsed": true
   },
   "outputs": [],
   "source": [
    "# B1. Set the Vocabulary : Unique set of characters that are found in the document\n",
    "vocab = set(text)\n",
    "# B2. Assign each unique character an integer (starting from 0) : {'<character>': 0, ... }\n",
    "vocab_to_int = {c: i for i, c in enumerate(vocab)}\n",
    "# B3. Flip assignment so integer indicates character : {<integer>: '<character>', ...}\n",
    "int_to_vocab = dict(enumerate(vocab))"
   ]
  },
  {
   "cell_type": "code",
   "execution_count": 8,
   "metadata": {
    "collapsed": true
   },
   "outputs": [],
   "source": [
    "# C. Encode the Document"
   ]
  },
  {
   "cell_type": "code",
   "execution_count": 9,
   "metadata": {},
   "outputs": [
    {
     "name": "stdout",
     "output_type": "stream",
     "text": [
      "Encoded document shape: (2025486,)\n"
     ]
    },
    {
     "data": {
      "text/plain": [
       "array([31, 66, 57, 74, 78, 61, 76,  3, 16,  1], dtype=int32)"
      ]
     },
     "execution_count": 9,
     "metadata": {},
     "output_type": "execute_result"
    }
   ],
   "source": [
    "# C1. For every occurence of a character in the document, assign the integer\n",
    "# (Use syntactic sugar and convert to a Numpy array)\n",
    "encoded = np.array([vocab_to_int[c] for c in text], dtype=np.int32)\n",
    "# C2. This results in our entire document encoded as character : integers, based on the defined vocabulary\n",
    "print('Encoded document shape: {}'.format(encoded.shape))\n",
    "encoded[0:10]"
   ]
  },
  {
   "cell_type": "code",
   "execution_count": 10,
   "metadata": {
    "collapsed": true
   },
   "outputs": [],
   "source": [
    "# D. Define Batch Generator"
   ]
  },
  {
   "cell_type": "code",
   "execution_count": 11,
   "metadata": {
    "collapsed": true
   },
   "outputs": [],
   "source": [
    "# D1. A Generator Function that returns an Iterator for Batches\n",
    "def get_batches(arr, n_seqs, n_steps):\n",
    "    '''\n",
    "    Desc : Generate batches of size n_seqs * n_steps\n",
    "    Variables :\n",
    "        - arr     : Input array\n",
    "        - n_seqs  : Sequences per batch (batch size)\n",
    "        - n_steps : Sequence steps per batch\n",
    "    '''\n",
    "    # Get the batch size and number of batches we can make\n",
    "    batch_size = n_seqs * n_steps \n",
    "    n_batches  = len(arr) // batch_size\n",
    "    \n",
    "    # Keep only enough characters to make full batches\n",
    "    arr =  arr[:n_batches * batch_size]\n",
    "    \n",
    "    # Reshape into n_seqs rows\n",
    "    arr = arr.reshape((n_seqs,-1))\n",
    "    \n",
    "    for n in range(0, arr.shape[1], n_steps):\n",
    "        # The features\n",
    "        x = arr[:,n:n+n_steps]\n",
    "        # The targets, shifted by one\n",
    "        y = np.zeros(x.shape)\n",
    "        y[:,:-1],y[:,-1] = x[:,1:] ,x[:,0]\n",
    "        yield x, y"
   ]
  },
  {
   "cell_type": "code",
   "execution_count": 12,
   "metadata": {
    "collapsed": true
   },
   "outputs": [],
   "source": [
    "# D2. Validate the Function\n",
    "batches = get_batches(encoded, 10, 50)\n",
    "x, y = next(batches)"
   ]
  },
  {
   "cell_type": "code",
   "execution_count": 13,
   "metadata": {
    "collapsed": true
   },
   "outputs": [],
   "source": [
    "# E. Define Model Inputs"
   ]
  },
  {
   "cell_type": "code",
   "execution_count": 14,
   "metadata": {
    "collapsed": true
   },
   "outputs": [],
   "source": [
    "# E1. Shaping input placeholders and preparing for optimization\n",
    "def build_inputs(batch_size, num_steps):\n",
    "    '''\n",
    "    Desc : Tensorflow Placeholders\n",
    "    Variables :\n",
    "        - batch_size : Number of sequences per batch\n",
    "        - num_steps  : Sequence steps per batch\n",
    "    '''\n",
    "    # Graph placeholders\n",
    "    inputs = tf.placeholder(tf.int32,[batch_size,num_steps],name=\"inputs\")\n",
    "    targets = tf.placeholder(tf.int32,[batch_size,num_steps],name=\"targets\")\n",
    "    \n",
    "    # Retain probability placeholder for drop out layers\n",
    "    keep_prob = tf.placeholder(tf.float32,name=\"keep_prob\") # Scalar\n",
    "    \n",
    "    return inputs, targets, keep_prob"
   ]
  },
  {
   "cell_type": "code",
   "execution_count": 15,
   "metadata": {
    "collapsed": true
   },
   "outputs": [],
   "source": [
    "# F. Define LSTM Cell"
   ]
  },
  {
   "cell_type": "code",
   "execution_count": 16,
   "metadata": {
    "collapsed": true
   },
   "outputs": [],
   "source": [
    "# F1. Use a basic LSTM Cell\n",
    "def build_lstm(lstm_size, num_layers, batch_size, keep_prob):\n",
    "    '''\n",
    "    Desc : LSTM Cell for Hidden Layers\n",
    "    Variables :\n",
    "        - keep_prob  : Dropout optimization (scalar placeholder)\n",
    "        - lstm_size  : Size of the hidden layers in the LSTM cells\n",
    "        - num_layers : Number of LSTM layers\n",
    "        - batch_size : Batch size\n",
    "    '''\n",
    "\n",
    "    # LSTM cell and dropout to the cell outputs\n",
    "    # Stack LSTM layers, for vector ops (syntactic sugar)\n",
    "    cell = tf.contrib.rnn.MultiRNNCell([tf.contrib.rnn.DropoutWrapper\\\n",
    "                                       (tf.contrib.rnn.BasicLSTMCell(lstm_size)) \\\n",
    "                                        for _ in range(num_layers)])\n",
    "    # Fill the initial state with Zeros\n",
    "    initial_state = cell.zero_state(batch_size,tf.float32)\n",
    "    \n",
    "    return cell, initial_state"
   ]
  },
  {
   "cell_type": "code",
   "execution_count": null,
   "metadata": {
    "collapsed": true
   },
   "outputs": [],
   "source": []
  }
 ],
 "metadata": {
  "kernelspec": {
   "display_name": "Python 2",
   "language": "python",
   "name": "python2"
  },
  "language_info": {
   "codemirror_mode": {
    "name": "ipython",
    "version": 2
   },
   "file_extension": ".py",
   "mimetype": "text/x-python",
   "name": "python",
   "nbconvert_exporter": "python",
   "pygments_lexer": "ipython2",
   "version": "2.7.12"
  }
 },
 "nbformat": 4,
 "nbformat_minor": 2
}
